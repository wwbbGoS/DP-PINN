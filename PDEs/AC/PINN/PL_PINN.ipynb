{
 "cells": [
  {
   "cell_type": "code",
   "execution_count": 1,
   "metadata": {},
   "outputs": [],
   "source": [
    "import sys\n",
    "sys.path.insert(0, '../../../Utilities/')\n",
    "import argparse\n",
    "import os\n",
    "import torch\n",
    "from collections import OrderedDict\n",
    "import math\n",
    "import numpy as np\n",
    "import matplotlib.pyplot as plt\n",
    "import scipy.io\n",
    "from scipy.interpolate import griddata\n",
    "# from plotting import newfig, savefig\n",
    "from mpl_toolkits.axes_grid1 import make_axes_locatable\n",
    "import matplotlib.gridspec as gridspec\n",
    "import torchvision.transforms as transforms\n",
    "from torchvision.utils import save_image\n",
    "from torch.utils.data import TensorDataset, DataLoader\n",
    "from torchvision import datasets\n",
    "from torch.autograd import Variable\n",
    "import torch.nn as nn\n",
    "import torch.nn.functional as F\n",
    "import torch\n",
    "import seaborn as sns\n",
    "import pylab as py\n",
    "import time\n",
    "from doe_lhs import *\n",
    "import warnings\n",
    "sys.path.insert(0, '../../../Scripts/')\n",
    "from models_pde import Net\n",
    "from pinn import *\n",
    "# from ../Scripts/helper import *\n",
    "\n",
    "warnings.filterwarnings('ignore')\n",
    "\n",
    "np.random.seed(1234)"
   ]
  },
  {
   "cell_type": "code",
   "execution_count": 2,
   "metadata": {},
   "outputs": [
    {
     "data": {
      "text/plain": [
       "device(type='cuda')"
      ]
     },
     "execution_count": 2,
     "metadata": {},
     "output_type": "execute_result"
    }
   ],
   "source": [
    "# CUDA support \n",
    "if torch.cuda.is_available():\n",
    "    device = torch.device('cuda')\n",
    "else:\n",
    "    device = torch.device('cpu')\n",
    "device"
   ]
  },
  {
   "cell_type": "code",
   "execution_count": 3,
   "metadata": {},
   "outputs": [],
   "source": [
    "num_epochs_1 = 40000\n",
    "num_epochs_2 = 20000\n",
    "\n",
    "noise = 0.0\n",
    "\n",
    "## Network Architecture\n",
    "hid_dim = 128\n",
    "num_layer = 4\n"
   ]
  },
  {
   "cell_type": "code",
   "execution_count": 4,
   "metadata": {},
   "outputs": [],
   "source": [
    "# Doman bounds\n",
    "lb = np.array([-1.0, 0.0])\n",
    "ub = np.array([1.0, 1.0])\n",
    "\n",
    "N0 = 512\n",
    "N_b = 100\n",
    "N_f = 5000\n",
    "# layers = [2, 100, 100, 100, 100, 2]\n",
    "\n",
    "data = scipy.io.loadmat('AC.mat')\n",
    "\n",
    "t = data['tt'].flatten()[:,None] # 201\n",
    "x = data['x'].flatten()[:,None]  # 512\n",
    "Exact = np.real(data['uu'])\n",
    "\n",
    "X, T = np.meshgrid(x,t)\n",
    "\n",
    "X_star = np.hstack((X.flatten()[:,None], T.flatten()[:,None]))\n",
    "u_star = Exact.T.flatten()[:,None]\n",
    "\n",
    "###########################\n",
    "\n",
    "st = 0.30\n",
    "tt = int(t.shape[0] * st)\n",
    "\n",
    "\n",
    "trunk1_X = X_star[ : x.shape[0] * tt]\n",
    "trunk2_X = X_star[ x.shape[0] * (tt - 1) : ]\n",
    "\n",
    "trunk1_u = u_star[ : x.shape[0] * tt]\n",
    "trunk2_u = u_star[ x.shape[0] * (tt - 1) : ]\n",
    "\n",
    "############################\n",
    "\n",
    "\n",
    "first_lb = trunk1_X.min(0) # [-5.  0.]\n",
    "first_ub = trunk1_X.max(0) # [4.9609375  0.77754418]\n",
    "\n",
    "second_lb = trunk2_X.min(0) # [-5.       0.77754418]\n",
    "second_ub = trunk2_X.max(0) # [4.9609375  1.57079633]\n",
    "\n",
    "# --------------------- first half ---------------------\n",
    "\n",
    "# initial points\n",
    "idx_x = np.random.choice(x.shape[0], N0, replace=False)\n",
    "x0_1 = x[idx_x,:]\n",
    "u0_1 = Exact[idx_x,0:1]\n",
    "\n",
    "# boundary points\n",
    "idx_t = np.random.choice(tt, N_b, replace=True)\n",
    "tb_1 = t[idx_t,:]\n",
    "\n",
    "# collocation points\n",
    "X_f_1 = first_lb + (first_ub-first_lb)*lhs(2, N_f)\n",
    "\n",
    "\n",
    "X0_1 = np.concatenate((x0_1, 0*x0_1), 1) # (x0, 0)\n",
    "Y0_1 = u0_1 \n",
    "X_lb_1 = np.concatenate((0*tb_1 + first_lb[0], tb_1), 1) # (lb[0], tb)\n",
    "X_ub_1 = np.concatenate((0*tb_1 + first_ub[0], tb_1), 1) # (ub[0], tb)\n"
   ]
  },
  {
   "cell_type": "code",
   "execution_count": 5,
   "metadata": {
    "scrolled": false
   },
   "outputs": [
    {
     "name": "stdout",
     "output_type": "stream",
     "text": [
      "2499\n",
      "4999\n",
      "7499\n",
      "9999\n",
      "12499\n",
      "14999\n",
      "17499\n",
      "19999\n",
      "22499\n",
      "24999\n",
      "27499\n",
      "29999\n",
      "32499\n",
      "34999\n",
      "37499\n",
      "39999\n",
      "2499\n",
      "4999\n",
      "7499\n",
      "9999\n",
      "12499\n",
      "14999\n",
      "17499\n",
      "19999\n",
      "22499\n",
      "24999\n",
      "27499\n",
      "29999\n",
      "32499\n",
      "34999\n",
      "37499\n",
      "39999\n"
     ]
    }
   ],
   "source": [
    "net = Net(in_dim = 2, out_dim = 1, hid_dim = hid_dim, num_layers = num_layer).to(device)\n",
    "\n",
    "ACs = AC_PINN(X0_1, Y0_1, X_f_1, X_lb_1, X_ub_1, net, device, num_epochs_1, 1.5, noise)\n",
    " \n",
    "ACs.train(True,trunk1_X,trunk1_u)"
   ]
  },
  {
   "cell_type": "code",
   "execution_count": 6,
   "metadata": {},
   "outputs": [
    {
     "name": "stdout",
     "output_type": "stream",
     "text": [
      "Error u: 0.005722740613149391\n",
      "Residual: 3.425318e-04\n"
     ]
    }
   ],
   "source": [
    "nsamples = 1\n",
    "u_pred_list = []\n",
    "f_u_pred_list = []\n",
    "\n",
    "for run in range(nsamples):\n",
    "    y_pred, f_u_pred = ACs.get_residual(trunk1_X)\n",
    "    u_pred = y_pred[:,0:1].detach().cpu().numpy()\n",
    "    u_pred_list.append(u_pred)\n",
    "    f_u_pred_list.append(f_u_pred.detach().cpu().numpy())\n",
    "\n",
    "\n",
    "u_pred_arr = np.array(u_pred_list)\n",
    "f_u_pred_arr = np.array(f_u_pred_list)\n",
    "\n",
    "u_pred = u_pred_arr.mean(axis=0)\n",
    "f_u_pred = f_u_pred_arr.mean(axis=0)\n",
    "\n",
    "\n",
    "\n",
    "residual = (f_u_pred**2).mean()\n",
    "\n",
    "#     u_dev = u_pred_arr.var(axis=0)\n",
    "#     f_dev = f_pred_arr.var(axis=0)\n",
    "\n",
    "error_u = np.linalg.norm(trunk1_u-u_pred,2)/np.linalg.norm(trunk1_u,2)\n",
    "\n",
    "print(\"Error u:\", error_u)                   \n",
    "print('Residual: %e' % (residual))\n",
    "\n",
    "# --------------------- Second half ---------------------\n",
    "\n",
    "tmp_pred = u_pred[-512:]"
   ]
  },
  {
   "cell_type": "code",
   "execution_count": 7,
   "metadata": {
    "scrolled": true
   },
   "outputs": [
    {
     "name": "stdout",
     "output_type": "stream",
     "text": [
      "2499\n",
      "4999\n",
      "7499\n",
      "9999\n",
      "12499\n",
      "14999\n",
      "17499\n",
      "19999\n",
      "2499\n",
      "4999\n",
      "7499\n",
      "9999\n",
      "12499\n",
      "14999\n",
      "17499\n",
      "19999\n"
     ]
    }
   ],
   "source": [
    "tmp_pred = u_pred[-512:]\n",
    "\n",
    "# initial points\n",
    "\n",
    "idx_x = np.random.choice(x.shape[0], 512, replace=False)\n",
    "x0_2 = x[idx_x,:]\n",
    "u0_2 = u_pred[-512:][idx_x,0:1]\n",
    "\n",
    "\n",
    "# x0_2 = x\n",
    "# u0_2 = u_pred[-512:]\n",
    "\n",
    "# boundary points\n",
    "idx_t = np.random.choice(range(tt, 201), N_b, replace=False)\n",
    "tb_2 = t[idx_t,:]\n",
    "\n",
    "# collocation points\n",
    "X_f_2 = second_lb + (second_ub-second_lb)*lhs(2, N_f)\n",
    "\n",
    "X0_2 = np.concatenate((x[idx_x,:], \n",
    "                       np.full(x[idx_x,:].shape, first_ub[1])), 1) # (x0, 0)\n",
    "\n",
    "\n",
    "\n",
    "Y0_2 = u0_2\n",
    "X_lb_2 = np.concatenate((0*tb_2 + second_lb[0], tb_2), 1) # (lb[0], tb)\n",
    "X_ub_2 = np.concatenate((0*tb_2 + second_ub[0], tb_2), 1) # (ub[0], tb)\n",
    "\n",
    "\n",
    "\n",
    "PINN = AC_PINN(np.vstack([X0_1,X0_2]),\n",
    "                        np.vstack([Y0_1,Y0_2]),\n",
    "                        np.vstack([X_f_1,X_f_2]), \n",
    "                        np.vstack([X_lb_1,X_lb_2]), \n",
    "                        np.vstack([X_ub_1,X_ub_2]), \n",
    "                        net, \n",
    "                        device, \n",
    "                        num_epochs_2, \n",
    "                        1, \n",
    "                        noise)\n",
    "PINN.train(False,X_star,u_star)"
   ]
  },
  {
   "cell_type": "code",
   "execution_count": 8,
   "metadata": {},
   "outputs": [],
   "source": [
    "nsamples = 1\n",
    "u_pred_list = []\n",
    "f_u_pred_list = []\n",
    "\n",
    "for run in range(1):\n",
    "    y_pred, f_u_pred = PINN.get_residual(X_star)\n",
    "    u_pred = y_pred[:,0:1].detach().cpu().numpy()\n",
    "    u_pred_list.append(u_pred)\n",
    "    f_u_pred_list.append(f_u_pred.detach().cpu().numpy())\n",
    "\n",
    "\n",
    "u_pred_arr = np.array(u_pred_list)\n",
    "f_u_pred_arr = np.array(f_u_pred_list)\n",
    "\n",
    "\n",
    "u_pred = u_pred_arr.mean(axis=0)\n",
    "f_u_pred = f_u_pred_arr.mean(axis=0)\n",
    "residual = (f_u_pred**2).mean()\n",
    "\n",
    "error_u = np.linalg.norm(u_star-u_pred,2)/np.linalg.norm(u_star,2)\n",
    "\n",
    "\n",
    "U_pred = griddata(X_star, u_pred.flatten(), (X, T), method='cubic')\n",
    "FU_pred = griddata(X_star, f_u_pred.flatten(), (X, T), method='cubic')\n"
   ]
  },
  {
   "cell_type": "code",
   "execution_count": 9,
   "metadata": {},
   "outputs": [
    {
     "name": "stdout",
     "output_type": "stream",
     "text": [
      "Error u: 0.14377977068740846\n",
      "Residual: 5.965211e-03\n"
     ]
    }
   ],
   "source": [
    "print(\"Error u:\", error_u)                  \n",
    "print('Residual: %e' % (residual))"
   ]
  },
  {
   "cell_type": "code",
   "execution_count": 10,
   "metadata": {},
   "outputs": [
    {
     "name": "stderr",
     "output_type": "stream",
     "text": [
      "No artists with labels found to put in legend.  Note that artists whose label start with an underscore are ignored when legend() is called with no argument.\n",
      "No artists with labels found to put in legend.  Note that artists whose label start with an underscore are ignored when legend() is called with no argument.\n"
     ]
    },
    {
     "data": {
      "text/plain": [
       "Text(0.5, 1.0, 'Error $u(x,t)$')"
      ]
     },
     "execution_count": 10,
     "metadata": {},
     "output_type": "execute_result"
    },
    {
     "data": {
      "image/png": "[encoded data removed]",
      "text/plain": [
       "<Figure size 2000x1000 with 2 Axes>"
      ]
     },
     "metadata": {},
     "output_type": "display_data"
    },
    {
     "data": {
      "image/png": "[encoded data removed]",
      "text/plain": [
       "<Figure size 2000x1000 with 2 Axes>"
      ]
     },
     "metadata": {},
     "output_type": "display_data"
    }
   ],
   "source": [
    "## ############################# Plotting ###############################\n",
    "######################################################################    \n",
    "# t = data['tt'].flatten()[:,None]\n",
    "# x = data['x'].flatten()[:,None]\n",
    "\n",
    "# X0 = np.concatenate((x0, 0*x0), 1) # (x0, 0)\n",
    "# X_lb = np.concatenate((0*tb + lb[0], tb), 1) # (lb[0], tb)\n",
    "# X_ub = np.concatenate((0*tb + ub[0], tb), 1) # (ub[0], tb)\n",
    "# X_u_train = np.vstack([X0, X_lb, X_ub])\n",
    "\n",
    "# fig, ax = newfig(1.0, 0.9)\n",
    "fig = plt.figure(figsize=(20, 10))\n",
    "ax = fig.add_subplot(111)\n",
    "ax.axis('off')\n",
    "\n",
    "####### Row 0: h(t,x) ##################    \n",
    "gs0 = gridspec.GridSpec(1, 2)\n",
    "gs0.update(top=1-0.06, bottom=1-1/6, left=0.15, right=0.25, wspace=0)\n",
    "ax = plt.subplot(gs0[:, :])\n",
    "\n",
    "# h = ax.imshow(Exact, interpolation='nearest', cmap='YlGnBu', \n",
    "#               extent=[lb[1], ub[1], lb[0], ub[0]], \n",
    "#               origin='lower', aspect='auto')\n",
    "\n",
    "h = ax.imshow(U_pred.T, interpolation='nearest', cmap='YlGnBu', \n",
    "              extent=[lb[1], ub[1], lb[0], ub[0]], \n",
    "              origin='lower', aspect='auto')\n",
    "\n",
    "\n",
    "divider = make_axes_locatable(ax)\n",
    "cax = divider.append_axes(\"right\", size=\"5%\", pad=0.05)\n",
    "fig.colorbar(h, cax=cax)\n",
    "\n",
    "ax.set_xlabel('$t$')\n",
    "ax.set_ylabel('$x$')\n",
    "leg = ax.legend(frameon=False, loc = 'best')\n",
    "#    plt.setp(leg.get_texts(), color='w')\n",
    "ax.set_title('Prediction $u(x,t)$', fontsize = 10)\n",
    "\n",
    "fig = plt.figure(figsize=(20, 10))\n",
    "ax = fig.add_subplot(111)\n",
    "ax.axis('off')\n",
    "\n",
    "####### Row 0: h(t,x) ##################    \n",
    "gs0 = gridspec.GridSpec(1, 2)\n",
    "gs0.update(top=1-0.06, bottom=1-1/6, left=0.15, right=0.25, wspace=0)\n",
    "ax = plt.subplot(gs0[:, :])\n",
    "\n",
    "# error  = griddata(X_star, np.abs(u_star-U_pred).flatten(), (X, T), method='cubic')\n",
    "\n",
    "\n",
    "# h = ax.imshow(U_pred.T, interpolation='nearest', cmap='YlGnBu', \n",
    "#               extent=[lb[1], ub[1], lb[0], ub[0]], \n",
    "#               origin='lower', aspect='auto')\n",
    "\n",
    "\n",
    "h = ax.imshow(np.abs(Exact - U_pred.T), interpolation='nearest', cmap='YlGnBu', \n",
    "              extent=[lb[1], ub[1], lb[0], ub[0]], \n",
    "              origin='lower', aspect='auto')\n",
    "\n",
    "divider = make_axes_locatable(ax)\n",
    "cax = divider.append_axes(\"right\", size=\"5%\", pad=0.05)\n",
    "fig.colorbar(h, cax=cax)\n",
    "\n",
    "\n",
    "\n",
    "ax.set_xlabel('$t$')\n",
    "ax.set_ylabel('$x$')\n",
    "leg = ax.legend(frameon=False, loc = 'best')\n",
    "#    plt.setp(leg.get_texts(), color='w')\n",
    "ax.set_title('Error $u(x,t)$', fontsize = 10)\n"
   ]
  },
  {
   "cell_type": "code",
   "execution_count": 11,
   "metadata": {},
   "outputs": [
    {
     "data": {
      "text/plain": [
       "Text(0.5, 1.0, 't = 1.0')"
      ]
     },
     "execution_count": 11,
     "metadata": {},
     "output_type": "execute_result"
    },
    {
     "data": {
      "image/png": "[encoded data removed]",
      "text/plain": [
       "<Figure size 4000x2000 with 4 Axes>"
      ]
     },
     "metadata": {},
     "output_type": "display_data"
    }
   ],
   "source": [
    "## Row 1: h(t,x) slices ##################    \n",
    "fig = plt.figure(figsize=(40, 20))\n",
    "ax = fig.add_subplot(111)\n",
    "\n",
    "# b = np.loadtxt('PINN_result.txt',dtype=float)\n",
    "\n",
    "gs1 = gridspec.GridSpec(1, 4)\n",
    "gs1.update(top=1-1/3, bottom=0, left=0.1, right=0.3, wspace=0.5)\n",
    "\n",
    "ax = plt.subplot(gs1[0, 0])\n",
    "ax.plot(x,Exact[:,0], 'b-', linewidth = 2, label = 'Exact')       \n",
    "# ax.plot(x,0, 'r--', linewidth = 2, label = 'Prediction')\n",
    "ax.plot(x,U_pred.T[:,0], 'r--', linewidth = 2, label = 'Prediction')\n",
    "ax.set_xlabel('$x$')\n",
    "# ax.set_ylabel('$u(x,t)$')   \n",
    "ax.set_title('t = 0.0', fontsize = 10)\n",
    "ax.axis('square')\n",
    "ax.set_xlim([-1.0,1.0])\n",
    "ax.set_ylim([-1.0,1.0])   \n",
    "\n",
    "ax = plt.subplot(gs1[0, 1])\n",
    "ax.plot(x,Exact[:,67], 'b-', linewidth = 2, label = 'Exact')       \n",
    "ax.plot(x,U_pred.T[:,67], 'r--', linewidth = 2, label = 'Prediction')\n",
    "\n",
    "ax.set_xlabel('$x$')\n",
    "# ax.set_ylabel('$u(x,t)$')\n",
    "ax.axis('square')\n",
    "ax.set_xlim([-1.0,1.0])\n",
    "ax.set_ylim([-1.0,1.0])  \n",
    "ax.set_title('t = 0.33', fontsize = 10)\n",
    "\n",
    "\n",
    "ax = plt.subplot(gs1[0, 2])\n",
    "ax.plot(x,Exact[:,134], 'b-', linewidth = 2, label = 'Exact')       \n",
    "ax.plot(x,U_pred.T[:,134], 'r--', linewidth = 2, label = 'Prediction')\n",
    "\n",
    "ax.set_xlabel('$x$')\n",
    "# ax.set_ylabel('$u(x,t)$')\n",
    "ax.axis('square')\n",
    "ax.set_xlim([-1.0,1.0])\n",
    "ax.set_ylim([-1.0,1.0])      \n",
    "ax.set_title('t = 0.67', fontsize = 10)\n",
    "\n",
    "ax.legend(loc='upper center', bbox_to_anchor=(-0.25, -0.2), ncol=1, frameon=True)\n",
    "\n",
    "ax = plt.subplot(gs1[0, 3])\n",
    "ax.plot(x,Exact[:,200], 'b-', linewidth = 2, label = 'Exact')       \n",
    "ax.plot(x,U_pred.T[:,200], 'r--', linewidth = 2, label = 'Prediction')\n",
    "\n",
    "ax.set_xlabel('$x$')\n",
    "# ax.set_ylabel('$u(x,t)$')\n",
    "ax.axis('square')\n",
    "ax.set_xlim([-1.0,1.0])\n",
    "ax.set_ylim([-1.0,1.0])   \n",
    "ax.set_title('t = 1.0', fontsize = 10)\n",
    "\n"
   ]
  },
  {
   "cell_type": "code",
   "execution_count": null,
   "metadata": {},
   "outputs": [],
   "source": []
  }
 ],
 "metadata": {
  "kernelspec": {
   "display_name": "Python 3 (ipykernel)",
   "language": "python",
   "name": "python3"
  },
  "language_info": {
   "codemirror_mode": {
    "name": "ipython",
    "version": 3
   },
   "file_extension": ".py",
   "mimetype": "text/x-python",
   "name": "python",
   "nbconvert_exporter": "python",
   "pygments_lexer": "ipython3",
   "version": "3.9.18"
  }
 },
 "nbformat": 4,
 "nbformat_minor": 2
}
